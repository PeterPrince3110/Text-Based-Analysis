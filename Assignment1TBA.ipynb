{
 "cells": [
  {
   "cell_type": "markdown",
   "id": "d2e3be10-e87e-460f-9902-a767a82991c6",
   "metadata": {},
   "source": [
    "PYTHON STRING OPERATIONS\n"
   ]
  },
  {
   "cell_type": "code",
   "execution_count": 5,
   "id": "2954809d-40ed-48b5-9472-761f10cbc753",
   "metadata": {},
   "outputs": [
    {
     "name": "stdout",
     "output_type": "stream",
     "text": [
      "['robo']\n"
     ]
    }
   ],
   "source": [
    "#MATCHING WORDS WIRH SPECIFIC LETTERS\n",
    "\n",
    "import re\n",
    "\n",
    "test = \"Hello world my name is robo\"\n",
    "words_starting_with_r= re.findall(r'\\b[rR]\\w+', test)\n",
    "print(words_starting_with_r)\n",
    "# Output: ['robo']"
   ]
  },
  {
   "cell_type": "markdown",
   "id": "be52f7e7-8e5f-42a7-9c7d-4cdc8b256c49",
   "metadata": {},
   "source": [
    "CONCATENATION"
   ]
  },
  {
   "cell_type": "code",
   "execution_count": 6,
   "id": "c52eca52-736c-488f-863d-0bd3fbd86e5e",
   "metadata": {},
   "outputs": [
    {
     "name": "stdout",
     "output_type": "stream",
     "text": [
      "Hello World my name is Robo\n"
     ]
    }
   ],
   "source": [
    "test1 = \"Hello World\"\n",
    "test2 = \"my name is Robo\"\n",
    "c_str = test1 + \" \" + test2\n",
    "print(c_str)\n",
    "# Output: Hello World my name is Robo\n"
   ]
  },
  {
   "cell_type": "markdown",
   "id": "bfbff85f-7148-4bce-a3e4-812232a95fd4",
   "metadata": {},
   "source": [
    "SUBSTRING"
   ]
  },
  {
   "cell_type": "code",
   "execution_count": 11,
   "id": "fec018f9-cb96-4d24-b01c-afe141ff1343",
   "metadata": {},
   "outputs": [
    {
     "name": "stdout",
     "output_type": "stream",
     "text": [
      "Hello world\n"
     ]
    }
   ],
   "source": [
    "o_str = \"Hello world this is robo\"\n",
    "substring = o_str[0:11]  # Extracting from index 0 to 4\n",
    "print(substring)\n",
    "# Output: Hello world\n"
   ]
  },
  {
   "cell_type": "markdown",
   "id": "d5f7e509-97e0-44fd-b1d4-27369c5daee2",
   "metadata": {},
   "source": [
    "JOINING"
   ]
  },
  {
   "cell_type": "code",
   "execution_count": 12,
   "id": "e963460a-9474-4fe7-bcd3-c6c1a362801d",
   "metadata": {},
   "outputs": [
    {
     "name": "stdout",
     "output_type": "stream",
     "text": [
      "Hello world this is robo.\n"
     ]
    }
   ],
   "source": [
    "test = ['Hello', 'world', 'this', 'is', 'robo.']\n",
    "sentence = \" \".join(test)\n",
    "print(sentence)\n",
    "# Output: Hello world this is robo\n"
   ]
  },
  {
   "cell_type": "markdown",
   "id": "931a9e8a-9989-40bb-9f00-38b23a912533",
   "metadata": {},
   "source": [
    "LENGTH"
   ]
  },
  {
   "cell_type": "code",
   "execution_count": 22,
   "id": "2a3766c8-714a-49fe-b661-875f9f462625",
   "metadata": {},
   "outputs": [
    {
     "name": "stdout",
     "output_type": "stream",
     "text": [
      "7\n"
     ]
    }
   ],
   "source": [
    "length = len(\"Im Robo\")\n",
    "print(length)\n",
    "# Output: 7\n"
   ]
  },
  {
   "cell_type": "markdown",
   "id": "10bdabb7-22dc-453c-ad4e-72dda52d5df0",
   "metadata": {},
   "source": [
    "UPPER CASE AND LOWER CASE"
   ]
  },
  {
   "cell_type": "code",
   "execution_count": 23,
   "id": "e75eb52b-cce6-4eac-9a69-fb5516eb0542",
   "metadata": {},
   "outputs": [
    {
     "name": "stdout",
     "output_type": "stream",
     "text": [
      "HELLO WORLD IM ROBO\n",
      "hello world im robo\n"
     ]
    }
   ],
   "source": [
    "string1 = \"Hello World im robo\"\n",
    "upper_string = string1.upper()\n",
    "lower_string = string1.lower()\n",
    "print(upper_string)\n",
    "print(lower_string)\n",
    "# Output: HELLO WORLD IM ROBO\n",
    "#hello world im robo\n"
   ]
  },
  {
   "cell_type": "markdown",
   "id": "765e8976-ecea-4b22-94ad-9a921ed24278",
   "metadata": {},
   "source": [
    "REPLACE "
   ]
  },
  {
   "cell_type": "code",
   "execution_count": 24,
   "id": "d20fd970-399f-4b11-aff7-46888808d5d1",
   "metadata": {},
   "outputs": [
    {
     "name": "stdout",
     "output_type": "stream",
     "text": [
      "Hello people im robo\n"
     ]
    }
   ],
   "source": [
    "string1 = \"Hello world im robo\"\n",
    "new_string = string1.replace(\"world\", \"people\")\n",
    "print(new_string)\n",
    "# Output: Hello people im robo\n"
   ]
  },
  {
   "cell_type": "markdown",
   "id": "a7b30f12-13c9-44a3-a715-8a8e4a8f86ab",
   "metadata": {},
   "source": [
    "STRING SLICING"
   ]
  },
  {
   "cell_type": "code",
   "execution_count": 17,
   "id": "b26d3199-e5e1-44f3-81c9-8a18fe93520a",
   "metadata": {},
   "outputs": [
    {
     "name": "stdout",
     "output_type": "stream",
     "text": [
      "!obor mI , dlrow olleH\n"
     ]
    }
   ],
   "source": [
    "#reversing using string slicing\n",
    "\n",
    "test = \"Hello world , Im robo!\"\n",
    "r_test = test[::-1]\n",
    "print(r_test)\n",
    "# Output: !obor mI , dlrow olleH\n"
   ]
  },
  {
   "cell_type": "code",
   "execution_count": 19,
   "id": "b12c899b-a30a-462e-b9a0-42611a331d92",
   "metadata": {},
   "outputs": [
    {
     "name": "stdout",
     "output_type": "stream",
     "text": [
      "egik\n"
     ]
    }
   ],
   "source": [
    "#SLICING WITH START, STOP, STEP\n",
    "\n",
    "text = \"abcdefghijklmnopqrstuvwxyz\"\n",
    "substring = text[4:12:2]  # Starts at index 4, stop at index 12, step by 2\n",
    "print(substring)\n",
    "# Output: egik\n"
   ]
  },
  {
   "cell_type": "code",
   "execution_count": 20,
   "id": "18650165-9528-415f-aa08-02bf33dc6ec7",
   "metadata": {},
   "outputs": [
    {
     "name": "stdout",
     "output_type": "stream",
     "text": [
      "82019\n"
     ]
    }
   ],
   "source": [
    "# slicing to remove leading zeros\n",
    "\n",
    "test = \"0082019\"\n",
    "s_test = test.lstrip('0')\n",
    "print(s_test)\n",
    "# Output: 82019\n"
   ]
  },
  {
   "cell_type": "markdown",
   "id": "cc85e680-87bd-4bbb-a7cd-b068a404e1fd",
   "metadata": {},
   "source": [
    "REGEX OPERATIONS"
   ]
  },
  {
   "cell_type": "code",
   "execution_count": 26,
   "id": "02ce936f-1df3-433b-80c3-e2e3f929bd60",
   "metadata": {},
   "outputs": [
    {
     "name": "stdout",
     "output_type": "stream",
     "text": [
      "Im peter the hero speed two terahertz.\n"
     ]
    }
   ],
   "source": [
    "# REPLACING MULTIPLE PATTERNS IN A STRING\n",
    "\n",
    "\n",
    "test = \"Im chitti the robo speed one terahertz.\"\n",
    "\n",
    "replacement = {\"chitti\": \"peter\", \"robo\": \"hero\", \"one\": \"two\"}\n",
    "\n",
    "for old, new in replacement.items():\n",
    "    test = test.replace(old, new)\n",
    "\n",
    "print(test)  # Output: Im peter the hero speed two terahertz.\n"
   ]
  },
  {
   "cell_type": "code",
   "execution_count": 28,
   "id": "7e5d0e27-7f85-4075-b99c-d0f3771bd071",
   "metadata": {},
   "outputs": [
    {
     "name": "stdout",
     "output_type": "stream",
     "text": [
      "['hello', 'im', 'robo']\n"
     ]
    }
   ],
   "source": [
    "# SPLITTING A STRING USING PATTERN\n",
    "\n",
    "\n",
    "import re\n",
    "\n",
    "pattern = r'\\s+'  \n",
    "text = \"hello im robo\"\n",
    "\n",
    "words = re.split(pattern, text)\n",
    "print(words)  # Output: ['Hello', 'World']\n"
   ]
  },
  {
   "cell_type": "code",
   "execution_count": 31,
   "id": "a2938064-019c-4891-8c56-f9be732fd3ba",
   "metadata": {},
   "outputs": [
    {
     "name": "stdout",
     "output_type": "stream",
     "text": [
      "Pattern found.\n"
     ]
    }
   ],
   "source": [
    "#ANCHORS AND BOUNDRIES\n",
    "\n",
    "import re\n",
    "\n",
    "pattern = r'\\brobo\\b' \n",
    "text = \"Chitti the robo.\"\n",
    "\n",
    "if re.search(pattern, text):\n",
    "    print(\"Pattern found.\")\n",
    "else:\n",
    "    print(\"Pattern not found.\")\n"
   ]
  },
  {
   "cell_type": "code",
   "execution_count": 32,
   "id": "f2a2ecd7-cd63-4154-9223-812ea1d570be",
   "metadata": {},
   "outputs": [
    {
     "name": "stdout",
     "output_type": "stream",
     "text": [
      "['r', 't']\n"
     ]
    }
   ],
   "source": [
    "#CHARACTER CLASS\n",
    "\n",
    "\n",
    "import re\n",
    "\n",
    "pattern = r'[rstuv]'  # Matches any alphabet\n",
    "words = \"robot\"\n",
    "\n",
    "matches = re.findall(pattern, words)\n",
    "print(matches)  # Output: ['r', 't']\n"
   ]
  },
  {
   "cell_type": "code",
   "execution_count": 36,
   "id": "54fea8b8-cd2b-4514-85e7-2e66ec4da469",
   "metadata": {},
   "outputs": [
    {
     "name": "stdout",
     "output_type": "stream",
     "text": [
      "['cccc', 'cccc', 'ccc']\n"
     ]
    }
   ],
   "source": [
    "#QUANTIFIES\n",
    "\n",
    "import re\n",
    "\n",
    "pattern = r'c{3,4}'  # Matches 'c' that is repeating 3 or 4 times\n",
    "text = \"cc c cccc cccccc ccc\"\n",
    "\n",
    "matches = re.findall(pattern, text)\n",
    "print(matches)  # Output: ['cccc', 'cccc', 'ccc']\n"
   ]
  },
  {
   "cell_type": "code",
   "execution_count": 38,
   "id": "372d3f9f-c419-4cc4-837a-2dae31a009a7",
   "metadata": {},
   "outputs": [
    {
     "name": "stdout",
     "output_type": "stream",
     "text": [
      "Pattern found.\n"
     ]
    }
   ],
   "source": [
    "#IGNORING CASE\n",
    "\n",
    "import re\n",
    "\n",
    "pattern = r'robo'\n",
    "test = \"Hello, ROBO!\"\n",
    "\n",
    "if re.search(pattern, test, re.IGNORECASE):\n",
    "    print(\"Pattern found.\")\n",
    "else:\n",
    "    print(\"Pattern not found.\")\n"
   ]
  },
  {
   "cell_type": "code",
   "execution_count": 41,
   "id": "a4b4102e-0a53-4801-af4a-27033f222c0f",
   "metadata": {},
   "outputs": [
    {
     "name": "stdout",
     "output_type": "stream",
     "text": [
      "['he', 'she']\n"
     ]
    }
   ],
   "source": [
    "#LOOKAHEAD AND LOOKBEHIND ASSERTIONS\n",
    "\n",
    "import re\n",
    "\n",
    "pattern = r'\\b\\w+(?=\\sis\\b)'  # Matches a word followed by \"is\"\n",
    "text = \"he is robo. she is a robo.\"\n",
    "\n",
    "match = re.findall(pattern, text)\n",
    "print(match)  # Output: ['he', 'she']\n"
   ]
  },
  {
   "cell_type": "code",
   "execution_count": 43,
   "id": "d91d2ba4-adc7-4060-b994-4c7dcee9a2df",
   "metadata": {},
   "outputs": [
    {
     "name": "stdout",
     "output_type": "stream",
     "text": [
      "Pattern found at the start.\n",
      "Pattern not found at the end.\n"
     ]
    }
   ],
   "source": [
    "#MATCH AT START/END OF STRING\n",
    "\n",
    "import re\n",
    "\n",
    "p_start = r'^this is'  # Matches \"this is\" at the start of the string\n",
    "p_end = r'robo!$'   # Matches \"robo!\" at the end of the string\n",
    "text = \"this is, rob!\"\n",
    "\n",
    "if re.search(p_start, text):\n",
    "    print(\"Pattern found at the start.\")\n",
    "else:\n",
    "    print(\"Pattern not found at the start.\")\n",
    "\n",
    "if re.search(p_end, text):\n",
    "    print(\"Pattern found at the end.\")\n",
    "else:\n",
    "    print(\"Pattern not found at the end.\")\n"
   ]
  },
  {
   "cell_type": "code",
   "execution_count": null,
   "id": "f078ea5f-d9ec-47f9-acaf-018d8eaa0855",
   "metadata": {},
   "outputs": [],
   "source": []
  }
 ],
 "metadata": {
  "kernelspec": {
   "display_name": "Python 3 (ipykernel)",
   "language": "python",
   "name": "python3"
  },
  "language_info": {
   "codemirror_mode": {
    "name": "ipython",
    "version": 3
   },
   "file_extension": ".py",
   "mimetype": "text/x-python",
   "name": "python",
   "nbconvert_exporter": "python",
   "pygments_lexer": "ipython3",
   "version": "3.11.7"
  }
 },
 "nbformat": 4,
 "nbformat_minor": 5
}
