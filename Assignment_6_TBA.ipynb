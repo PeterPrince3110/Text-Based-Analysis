{
 "cells": [
  {
   "cell_type": "markdown",
   "id": "78bfeca7-4c24-4d7d-9a3e-40511ff87d59",
   "metadata": {},
   "source": [
    "## Language: English"
   ]
  },
  {
   "cell_type": "markdown",
   "id": "df26591b-8949-4bdb-8a55-3dc99bdcc8f4",
   "metadata": {},
   "source": [
    "## Importing modules"
   ]
  },
  {
   "cell_type": "code",
   "execution_count": 150,
   "id": "f8bc19b1-d7ab-4c6d-9cc4-7dcb5d0d28bd",
   "metadata": {},
   "outputs": [],
   "source": [
    "from nltk.corpus import stopwords\n",
    " \n",
    "#you can remove stop words for speed\n",
    "\n",
    "from nltk.cluster.util import cosine_distance\n",
    "\n",
    "import numpy as np\n",
    "\n",
    "import networkx as nx"
   ]
  },
  {
   "cell_type": "markdown",
   "id": "7fc54696-f1dd-4cd2-bd7b-fe4a4eec8b0d",
   "metadata": {},
   "source": [
    "## Open file and split into sentences"
   ]
  },
  {
   "cell_type": "code",
   "execution_count": 151,
   "id": "2f52c08c-df87-4591-ab35-8e2674ffa1fa",
   "metadata": {},
   "outputs": [
    {
     "name": "stdout",
     "output_type": "stream",
     "text": [
      "Scientists conducting fieldwork in the Amazon rainforest have identified a new species of orchid\n",
      "Named \"Dendrobium Amazonian,\" this orchid boasts vibrant purple flowers and grows exclusively in the dense Amazonian vegetation\n",
      "The discovery underscores the importance of conservation efforts in preserving biodiversity in threatened ecosystems like the Amazon.\n"
     ]
    }
   ],
   "source": [
    "file = open(\"Text6.txt\", \"r\")\n",
    "\n",
    "#This file contains one paragraph of multiple sentences\n",
    "\n",
    "filedata = file.readlines()\n",
    "\n",
    "article = filedata[0].split(\". \") #Just do the first paragraph\n",
    "\n",
    "sentences = []\n",
    "\n",
    "for sentence in article:\n",
    "\n",
    "         print(sentence)\n",
    "\n",
    "         sentences.append(sentence.replace(\"[^a-zA-Z]\", \" \").split(\" \"))"
   ]
  },
  {
   "cell_type": "markdown",
   "id": "f709e924-7915-43bb-aeda-ccde6d9d0cca",
   "metadata": {},
   "source": [
    "## Our data: a list of sentences"
   ]
  },
  {
   "cell_type": "code",
   "execution_count": 152,
   "id": "1b08574a-ceea-407c-860a-f81ad44cb938",
   "metadata": {},
   "outputs": [
    {
     "name": "stdout",
     "output_type": "stream",
     "text": [
      "Sentences are  [['Scientists', 'conducting', 'fieldwork', 'in', 'the', 'Amazon', 'rainforest', 'have', 'identified', 'a', 'new', 'species', 'of', 'orchid'], ['Named', '\"Dendrobium', 'Amazonian,\"', 'this', 'orchid', 'boasts', 'vibrant', 'purple', 'flowers', 'and', 'grows', 'exclusively', 'in', 'the', 'dense', 'Amazonian', 'vegetation'], ['The', 'discovery', 'underscores', 'the', 'importance', 'of', 'conservation', 'efforts', 'in', 'preserving', 'biodiversity', 'in', 'threatened', 'ecosystems', 'like', 'the', 'Amazon.']]\n"
     ]
    }
   ],
   "source": [
    "print(\"Sentences are \", sentences)"
   ]
  },
  {
   "cell_type": "markdown",
   "id": "7d3728de-f97c-4f36-8349-b627b94c8b5e",
   "metadata": {},
   "source": [
    "## Function to calculate similarity\n",
    "## (count the number of common words)"
   ]
  },
  {
   "cell_type": "code",
   "execution_count": 153,
   "id": "ac5b729c-64f1-43ca-a578-abbd7ac2d371",
   "metadata": {},
   "outputs": [],
   "source": [
    "def sentence_similarity(sent1, sent2 ):\n",
    "\n",
    "    sent1 = [w.lower() for w in sent1]\n",
    "\n",
    "    sent2 = [w.lower() for w in sent2]\n",
    "\n",
    "    all_words = list(set(sent1 + sent2))\n",
    "\n",
    "    vector1 = [0] * len(all_words)\n",
    "\n",
    "    vector2 = [0] * len(all_words)\n",
    "\n",
    "        # build the vector for the first sentence\n",
    "\n",
    "    for w in sent1:\n",
    "\n",
    "         vector1[all_words.index(w)] += 1\n",
    "\n",
    "       # build the vector for the second sentence\n",
    "\n",
    "    for w in sent2:\n",
    "\n",
    "         vector2[all_words.index(w)] += 1\n",
    "\n",
    "    return 1 - cosine_distance(vector1, vector2)"
   ]
  },
  {
   "cell_type": "markdown",
   "id": "0a344ccc-cb64-4b42-ab00-4322d189c150",
   "metadata": {},
   "source": [
    "## Create the similarity matrix"
   ]
  },
  {
   "cell_type": "code",
   "execution_count": 154,
   "id": "4aa42474-d051-4bf1-b15c-175a0a974ee3",
   "metadata": {},
   "outputs": [
    {
     "name": "stdout",
     "output_type": "stream",
     "text": [
      "Similarity matrix:\n",
      " [[0.         0.19446112 0.32071349]\n",
      " [0.19446112 0.         0.24253563]\n",
      " [0.32071349 0.24253563 0.        ]]\n"
     ]
    }
   ],
   "source": [
    "similarity_matrix = np.zeros((len(sentences), len(sentences)))\n",
    "for idx1 in range(len(sentences)):\n",
    "    for idx2 in range(len(sentences)):\n",
    "        if idx1 == idx2:  # ignore if both are same sentences\n",
    "            continue\n",
    "        similarity_matrix[idx1][idx2] = sentence_similarity(sentences[idx1], sentences[idx2])\n",
    "\n",
    "print(\"Similarity matrix:\\n\", similarity_matrix)"
   ]
  },
  {
   "cell_type": "markdown",
   "id": "7585d6cb-c9b5-4cc6-a9f9-37e56f9b9368",
   "metadata": {},
   "source": [
    "## Get the pagerank scores"
   ]
  },
  {
   "cell_type": "code",
   "execution_count": 155,
   "id": "9c3b4fc4-03ec-412a-af84-a26948d6f523",
   "metadata": {},
   "outputs": [
    {
     "name": "stdout",
     "output_type": "stream",
     "text": [
      "scores {0: 0.3389310970669074, 1: 0.2933381671575834, 2: 0.36773073577550913}\n"
     ]
    }
   ],
   "source": [
    "# Step 3 - Rank sentences in similarity martix\n",
    "\n",
    "sentence_similarity_graph = nx.from_numpy_array(similarity_matrix)\n",
    "\n",
    "scores = nx.pagerank(sentence_similarity_graph)\n",
    "\n",
    "print(\"scores\", scores)"
   ]
  },
  {
   "cell_type": "markdown",
   "id": "cd8a8db6-fafb-4177-9c85-929993fe9482",
   "metadata": {},
   "source": [
    "## Sort sentences by pagerank"
   ]
  },
  {
   "cell_type": "code",
   "execution_count": 156,
   "id": "0c85f13a-6aed-40a6-9f9d-cb1468da88c7",
   "metadata": {},
   "outputs": [
    {
     "name": "stdout",
     "output_type": "stream",
     "text": [
      "Indexes of top ranked_sentence order are \n",
      "\n",
      " [(0.36773073577550913, ['The', 'discovery', 'underscores', 'the', 'importance', 'of', 'conservation', 'efforts', 'in', 'preserving', 'biodiversity', 'in', 'threatened', 'ecosystems', 'like', 'the', 'Amazon.']), (0.3389310970669074, ['Scientists', 'conducting', 'fieldwork', 'in', 'the', 'Amazon', 'rainforest', 'have', 'identified', 'a', 'new', 'species', 'of', 'orchid']), (0.2933381671575834, ['Named', '\"Dendrobium', 'Amazonian,\"', 'this', 'orchid', 'boasts', 'vibrant', 'purple', 'flowers', 'and', 'grows', 'exclusively', 'in', 'the', 'dense', 'Amazonian', 'vegetation'])]\n"
     ]
    }
   ],
   "source": [
    "# Step 4 - Sort the rank and pick top sentences\n",
    "\n",
    "ranked_sentence = sorted(((scores[i],s) for i,s in enumerate(sentences)), reverse=True)\n",
    "\n",
    "print(\"Indexes of top ranked_sentence order are \\n\\n\",\n",
    "\n",
    "ranked_sentence)"
   ]
  },
  {
   "cell_type": "markdown",
   "id": "8fcc9181-82c9-423d-b5ad-9e514099f690",
   "metadata": {},
   "source": [
    "## Pick the top “n” sentences"
   ]
  },
  {
   "cell_type": "code",
   "execution_count": 157,
   "id": "69992c1c-9274-4fd7-ae62-e917344921c8",
   "metadata": {},
   "outputs": [
    {
     "name": "stdin",
     "output_type": "stream",
     "text": [
      "How many sentences do you want in the summary?  3\n"
     ]
    }
   ],
   "source": [
    "\n",
    "#Step 5 - How many sentences to pick\n",
    "\n",
    "n = int(input(\"How many sentences do you want in the summary? \"))\n",
    "\n",
    "#n=2\n",
    "\n",
    "summarize_text = []\n",
    "\n",
    "for i in range(n):\n",
    "\n",
    "      summarize_text.append(\" \".join(ranked_sentence[i][1]))"
   ]
  },
  {
   "cell_type": "markdown",
   "id": "3ac2bcb8-bd22-4111-b5d7-856e3172c908",
   "metadata": {},
   "source": [
    "## printing summary"
   ]
  },
  {
   "cell_type": "code",
   "execution_count": 158,
   "id": "f27b7500-7578-4446-8a6a-ff203f83ae6a",
   "metadata": {},
   "outputs": [
    {
     "name": "stdout",
     "output_type": "stream",
     "text": [
      "Summarize Text: \n",
      " The discovery underscores the importance of conservation efforts in preserving biodiversity in threatened ecosystems like the Amazon.. Scientists conducting fieldwork in the Amazon rainforest have identified a new species of orchid. Named \"Dendrobium Amazonian,\" this orchid boasts vibrant purple flowers and grows exclusively in the dense Amazonian vegetation\n"
     ]
    }
   ],
   "source": [
    "# Step 6 - Offcourse, output the summarize text\n",
    "print(\"Summarize Text: \\n\", \". \".join(summarize_text))"
   ]
  },
  {
   "cell_type": "markdown",
   "id": "6542dfd6-06c1-409f-bfb6-91c141c1f4f0",
   "metadata": {},
   "source": [
    "## Language: Spanish "
   ]
  },
  {
   "cell_type": "markdown",
   "id": "f156fa92-d4aa-4b38-9ccd-d2123044fca1",
   "metadata": {},
   "source": [
    "## Importing modules\n"
   ]
  },
  {
   "cell_type": "code",
   "execution_count": 159,
   "id": "2e5adada-3b0f-4d75-a89e-f7ed7d77dbd0",
   "metadata": {},
   "outputs": [],
   "source": [
    "from nltk.corpus import stopwords\n",
    " \n",
    "#you can remove stop words for speed\n",
    "\n",
    "from nltk.cluster.util import cosine_distance\n",
    "\n",
    "import numpy as np\n",
    "\n",
    "import networkx as nx"
   ]
  },
  {
   "cell_type": "markdown",
   "id": "c1e73d16-d7b3-4055-a575-e540d000ee2c",
   "metadata": {},
   "source": [
    "\n",
    "## Open file and split into sentences"
   ]
  },
  {
   "cell_type": "code",
   "execution_count": 160,
   "id": "f12ac08a-8f49-4da3-bac7-6d85a8fb1f3f",
   "metadata": {},
   "outputs": [
    {
     "name": "stdout",
     "output_type": "stream",
     "text": [
      "Científicos que realizan trabajo de campo en la selva amazónica han identificado una nueva especie de orquídea\n",
      "Llamada \"Dendrobium Amazonian\", esta orquídea cuenta con flores moradas vibrantes y crece exclusivamente en la densa vegetación amazónica\n",
      "El descubrimiento subraya la importancia de los esfuerzos de conservación para preservar la biodiversidad en ecosistemas amenazados como el amazónico.\n",
      "\n"
     ]
    }
   ],
   "source": [
    "file = open(\"Text7.txt\", \"r\")\n",
    "\n",
    "#This file contains one paragraph of multiple sentences\n",
    "\n",
    "filedata = file.readlines()\n",
    "\n",
    "article = filedata[0].split(\". \") #Just do the first paragraph\n",
    "\n",
    "sentences = []\n",
    "\n",
    "for sentence in article:\n",
    "\n",
    "         print(sentence)\n",
    "\n",
    "         sentences.append(sentence.replace(\"[^a-zA-Z]\", \" \").split(\" \"))"
   ]
  },
  {
   "cell_type": "markdown",
   "id": "99382efc-dc3a-43dd-9fcd-5c0a558b4377",
   "metadata": {},
   "source": [
    "## Our data: a list of sentences"
   ]
  },
  {
   "cell_type": "code",
   "execution_count": 161,
   "id": "a332235d-fd03-408d-91b5-c3bfac107ee0",
   "metadata": {},
   "outputs": [
    {
     "name": "stdout",
     "output_type": "stream",
     "text": [
      "Sentences are  [['Científicos', 'que', 'realizan', 'trabajo', 'de', 'campo', 'en', 'la', 'selva', 'amazónica', 'han', 'identificado', 'una', 'nueva', 'especie', 'de', 'orquídea'], ['Llamada', '\"Dendrobium', 'Amazonian\",', 'esta', 'orquídea', 'cuenta', 'con', 'flores', 'moradas', 'vibrantes', 'y', 'crece', 'exclusivamente', 'en', 'la', 'densa', 'vegetación', 'amazónica'], ['El', 'descubrimiento', 'subraya', 'la', 'importancia', 'de', 'los', 'esfuerzos', 'de', 'conservación', 'para', 'preservar', 'la', 'biodiversidad', 'en', 'ecosistemas', 'amenazados', 'como', 'el', 'amazónico.\\n']]\n"
     ]
    }
   ],
   "source": [
    "print(\"Sentences are \", sentences)"
   ]
  },
  {
   "cell_type": "markdown",
   "id": "f535f8e7-709c-4a17-be51-c669cfe89034",
   "metadata": {},
   "source": [
    "## Function to calculate similarity\n",
    "## (count the number of common words)"
   ]
  },
  {
   "cell_type": "code",
   "execution_count": 162,
   "id": "648d8e04-be2f-49e6-adbb-db6ad3a5e1c1",
   "metadata": {},
   "outputs": [],
   "source": [
    "def sentence_similarity(sent1, sent2 ):\n",
    "\n",
    "    sent1 = [w.lower() for w in sent1]\n",
    "\n",
    "    sent2 = [w.lower() for w in sent2]\n",
    "\n",
    "    all_words = list(set(sent1 + sent2))\n",
    "\n",
    "    vector1 = [0] * len(all_words)\n",
    "\n",
    "    vector2 = [0] * len(all_words)\n",
    "\n",
    "        # build the vector for the first sentence\n",
    "\n",
    "    for w in sent1:\n",
    "\n",
    "         vector1[all_words.index(w)] += 1\n",
    "\n",
    "       # build the vector for the second sentence\n",
    "\n",
    "    for w in sent2:\n",
    "\n",
    "         vector2[all_words.index(w)] += 1\n",
    "\n",
    "    return 1 - cosine_distance(vector1, vector2)"
   ]
  },
  {
   "cell_type": "markdown",
   "id": "7fe1a96c-0e4d-4fdf-88e6-a5cd79d70cd3",
   "metadata": {},
   "source": [
    "## Create the similarity matrix"
   ]
  },
  {
   "cell_type": "code",
   "execution_count": 163,
   "id": "c7ad50a6-3ee5-4ca9-9f2a-b72946e12dee",
   "metadata": {},
   "outputs": [
    {
     "name": "stdout",
     "output_type": "stream",
     "text": [
      "Similarity matrix:\n",
      " [[0.         0.21629523 0.31494489]\n",
      " [0.21629523 0.         0.13867505]\n",
      " [0.31494489 0.13867505 0.        ]]\n"
     ]
    }
   ],
   "source": [
    "similarity_matrix = np.zeros((len(sentences), len(sentences)))\n",
    "for idx1 in range(len(sentences)):\n",
    "    for idx2 in range(len(sentences)):\n",
    "        if idx1 == idx2:  # ignore if both are same sentences\n",
    "            continue\n",
    "        similarity_matrix[idx1][idx2] = sentence_similarity(sentences[idx1], sentences[idx2])\n",
    "\n",
    "print(\"Similarity matrix:\\n\", similarity_matrix)"
   ]
  },
  {
   "cell_type": "markdown",
   "id": "87c664ba-cd73-4f57-9c71-b53a5054f5e2",
   "metadata": {},
   "source": [
    "## Get the pagerank scores"
   ]
  },
  {
   "cell_type": "code",
   "execution_count": 164,
   "id": "27309075-1c16-4a0e-b098-dffa86fed24b",
   "metadata": {},
   "outputs": [
    {
     "name": "stdout",
     "output_type": "stream",
     "text": [
      "scores {0: 0.3901897983187782, 1: 0.27264827833165, 2: 0.337161923349571}\n"
     ]
    }
   ],
   "source": [
    "# Step 3 - Rank sentences in similarity martix\n",
    "\n",
    "sentence_similarity_graph = nx.from_numpy_array(similarity_matrix)\n",
    "\n",
    "scores = nx.pagerank(sentence_similarity_graph)\n",
    "\n",
    "print(\"scores\", scores)"
   ]
  },
  {
   "cell_type": "markdown",
   "id": "6c7054d2-c4d4-4fbe-88ea-5ea6160a3302",
   "metadata": {},
   "source": [
    "## Sort sentences by pagerank"
   ]
  },
  {
   "cell_type": "code",
   "execution_count": 165,
   "id": "df5760c5-5766-4e2b-9224-9031af9149b8",
   "metadata": {},
   "outputs": [
    {
     "name": "stdout",
     "output_type": "stream",
     "text": [
      "Indexes of top ranked_sentence order are \n",
      "\n",
      " [(0.3901897983187782, ['Científicos', 'que', 'realizan', 'trabajo', 'de', 'campo', 'en', 'la', 'selva', 'amazónica', 'han', 'identificado', 'una', 'nueva', 'especie', 'de', 'orquídea']), (0.337161923349571, ['El', 'descubrimiento', 'subraya', 'la', 'importancia', 'de', 'los', 'esfuerzos', 'de', 'conservación', 'para', 'preservar', 'la', 'biodiversidad', 'en', 'ecosistemas', 'amenazados', 'como', 'el', 'amazónico.\\n']), (0.27264827833165, ['Llamada', '\"Dendrobium', 'Amazonian\",', 'esta', 'orquídea', 'cuenta', 'con', 'flores', 'moradas', 'vibrantes', 'y', 'crece', 'exclusivamente', 'en', 'la', 'densa', 'vegetación', 'amazónica'])]\n"
     ]
    }
   ],
   "source": [
    "# Step 4 - Sort the rank and pick top sentences\n",
    "\n",
    "ranked_sentence = sorted(((scores[i],s) for i,s in enumerate(sentences)), reverse=True)\n",
    "\n",
    "print(\"Indexes of top ranked_sentence order are \\n\\n\",\n",
    "\n",
    "ranked_sentence)"
   ]
  },
  {
   "cell_type": "markdown",
   "id": "b3162938-dcaa-4c04-ab43-c0b822528397",
   "metadata": {},
   "source": [
    "## Pick the top “n” sentences"
   ]
  },
  {
   "cell_type": "code",
   "execution_count": 168,
   "id": "63d6cf62-ac50-43d1-ba21-e626d169bd27",
   "metadata": {},
   "outputs": [
    {
     "name": "stdin",
     "output_type": "stream",
     "text": [
      "How many sentences do you want in the summary?  3\n"
     ]
    }
   ],
   "source": [
    "\n",
    "#Step 5 - How many sentences to pick\n",
    "\n",
    "n = int(input(\"How many sentences do you want in the summary? \"))\n",
    "\n",
    "#n=2\n",
    "\n",
    "summarize_text = []\n",
    "\n",
    "for i in range(n):\n",
    "\n",
    "      summarize_text.append(\" \".join(ranked_sentence[i][1]))"
   ]
  },
  {
   "cell_type": "markdown",
   "id": "6a3f6a55-35f9-48fe-89cf-b0aaecd63d39",
   "metadata": {},
   "source": [
    "## printing summary"
   ]
  },
  {
   "cell_type": "code",
   "execution_count": 169,
   "id": "b92aef93-ad29-4eba-a885-3ffac67efa4a",
   "metadata": {},
   "outputs": [
    {
     "name": "stdout",
     "output_type": "stream",
     "text": [
      "Summarize Text: \n",
      " Científicos que realizan trabajo de campo en la selva amazónica han identificado una nueva especie de orquídea. El descubrimiento subraya la importancia de los esfuerzos de conservación para preservar la biodiversidad en ecosistemas amenazados como el amazónico.\n",
      ". Llamada \"Dendrobium Amazonian\", esta orquídea cuenta con flores moradas vibrantes y crece exclusivamente en la densa vegetación amazónica\n"
     ]
    }
   ],
   "source": [
    "# Step 6 - Offcourse, output the summarize text\n",
    "print(\"Summarize Text: \\n\", \". \".join(summarize_text))"
   ]
  },
  {
   "cell_type": "markdown",
   "id": "ba6eccc5-e14e-4157-b7e4-ff4d8486045f",
   "metadata": {},
   "source": [
    "## Language: Telugu"
   ]
  },
  {
   "cell_type": "markdown",
   "id": "3777782c-0917-4623-96de-7593bd56ab81",
   "metadata": {},
   "source": [
    "## Importing modules"
   ]
  },
  {
   "cell_type": "code",
   "execution_count": 170,
   "id": "99ebf55c-acf2-4f3c-adee-33607fc998c6",
   "metadata": {},
   "outputs": [],
   "source": [
    "from nltk.corpus import stopwords\n",
    " \n",
    "#you can remove stop words for speed\n",
    "\n",
    "from nltk.cluster.util import cosine_distance\n",
    "\n",
    "import numpy as np\n",
    "\n",
    "import networkx as nx"
   ]
  },
  {
   "cell_type": "markdown",
   "id": "9da9967b-71b1-44fe-a007-73bf20982e74",
   "metadata": {},
   "source": [
    "## Open file and split into sentences"
   ]
  },
  {
   "cell_type": "code",
   "execution_count": 171,
   "id": "48f016ee-0246-469d-9444-8116b29d8a7c",
   "metadata": {},
   "outputs": [
    {
     "name": "stdout",
     "output_type": "stream",
     "text": [
      "ఈ హొందికలు తెలిపిన ఈ కొత్త సాంకేతిక సాధనం సంచార విధానాలులో ఒక మార్పును సంజీవిస్తుంది\n",
      "అతని అభిమానాన్ని అనుసరించి, వ్యక్తులు త్వరిత మరియు కనిష్ఠ సమయంలో సమాచారం వ్యవస్థలను చేంజ్ చేయగలిగేలా అనుభవిస్తుండారు\n",
      "ఇది మాత్రమే కాక, అందుబాటులో ఉత్పత్తి మీరు కొన్ని లోపాలను అనుభవించాలి\n",
      "మరియు ఈ సాంకేతిక ప్రవృత్తి అంతా ఎందుకంటి సమాచారం నిలుస్తోంది.\n"
     ]
    }
   ],
   "source": [
    "file = open(\"Text8.txt\", \"r\")\n",
    "\n",
    "#This file contains one paragraph of multiple sentences\n",
    "\n",
    "filedata = file.readlines()\n",
    "\n",
    "article = filedata[0].split(\". \") #Just do the first paragraph\n",
    "\n",
    "sentences = []\n",
    "\n",
    "for sentence in article:\n",
    "\n",
    "         print(sentence)\n",
    "\n",
    "         sentences.append(sentence.replace(\"[^a-zA-Z]\", \" \").split(\" \"))"
   ]
  },
  {
   "cell_type": "markdown",
   "id": "fe3073e5-4093-4e3f-a673-8b807aa98e81",
   "metadata": {},
   "source": [
    "## Our data: a list of sentences"
   ]
  },
  {
   "cell_type": "code",
   "execution_count": 172,
   "id": "b5339b93-48ee-4c5e-8f81-1a9b250394dd",
   "metadata": {},
   "outputs": [
    {
     "name": "stdout",
     "output_type": "stream",
     "text": [
      "Sentences are  [['ఈ', 'హొందికలు', 'తెలిపిన', 'ఈ', 'కొత్త', 'సాంకేతిక', 'సాధనం', 'సంచార', 'విధానాలులో', 'ఒక', 'మార్పును', 'సంజీవిస్తుంది'], ['అతని', 'అభిమానాన్ని', 'అనుసరించి,', 'వ్యక్తులు', 'త్వరిత', 'మరియు', 'కనిష్ఠ', 'సమయంలో', 'సమాచారం', 'వ్యవస్థలను', 'చేంజ్', 'చేయగలిగేలా', 'అనుభవిస్తుండారు'], ['ఇది', 'మాత్రమే', 'కాక,', 'అందుబాటులో', 'ఉత్పత్తి', 'మీరు', 'కొన్ని', 'లోపాలను', 'అనుభవించాలి'], ['మరియు', 'ఈ', 'సాంకేతిక', 'ప్రవృత్తి', 'అంతా', 'ఎందుకంటి', 'సమాచారం', 'నిలుస్తోంది.']]\n"
     ]
    }
   ],
   "source": [
    "print(\"Sentences are \", sentences)"
   ]
  },
  {
   "cell_type": "markdown",
   "id": "ca5bf514-33c9-4fb3-b882-96a1e0efd9d5",
   "metadata": {},
   "source": [
    "## Function to calculate similarity\n",
    "## (count the number of common words)"
   ]
  },
  {
   "cell_type": "code",
   "execution_count": 173,
   "id": "c3385f30-fab3-4c0e-9107-e23d2dd81cb4",
   "metadata": {},
   "outputs": [],
   "source": [
    "def sentence_similarity(sent1, sent2 ):\n",
    "\n",
    "    sent1 = [w.lower() for w in sent1]\n",
    "\n",
    "    sent2 = [w.lower() for w in sent2]\n",
    "\n",
    "    all_words = list(set(sent1 + sent2))\n",
    "\n",
    "    vector1 = [0] * len(all_words)\n",
    "\n",
    "    vector2 = [0] * len(all_words)\n",
    "\n",
    "        # build the vector for the first sentence\n",
    "\n",
    "    for w in sent1:\n",
    "\n",
    "         vector1[all_words.index(w)] += 1\n",
    "\n",
    "       # build the vector for the second sentence\n",
    "\n",
    "    for w in sent2:\n",
    "\n",
    "         vector2[all_words.index(w)] += 1\n",
    "\n",
    "    return 1 - cosine_distance(vector1, vector2)"
   ]
  },
  {
   "cell_type": "markdown",
   "id": "23a9242b-faeb-4333-bd33-0091765fe359",
   "metadata": {},
   "source": [
    "## Create the similarity matrix"
   ]
  },
  {
   "cell_type": "code",
   "execution_count": 174,
   "id": "a69d5dd4-2fb3-471f-b56d-38d20d085978",
   "metadata": {},
   "outputs": [
    {
     "name": "stdout",
     "output_type": "stream",
     "text": [
      "Similarity matrix:\n",
      " [[0.         0.         0.         0.28347335]\n",
      " [0.         0.         0.         0.19611614]\n",
      " [0.         0.         0.         0.        ]\n",
      " [0.28347335 0.19611614 0.         0.        ]]\n"
     ]
    }
   ],
   "source": [
    "similarity_matrix = np.zeros((len(sentences), len(sentences)))\n",
    "for idx1 in range(len(sentences)):\n",
    "    for idx2 in range(len(sentences)):\n",
    "        if idx1 == idx2:  # ignore if both are same sentences\n",
    "            continue\n",
    "        similarity_matrix[idx1][idx2] = sentence_similarity(sentences[idx1], sentences[idx2])\n",
    "\n",
    "print(\"Similarity matrix:\\n\", similarity_matrix)"
   ]
  },
  {
   "cell_type": "markdown",
   "id": "49c124d9-7295-4116-805c-494d8197c740",
   "metadata": {},
   "source": [
    "## Get the pagerank scores"
   ]
  },
  {
   "cell_type": "code",
   "execution_count": 175,
   "id": "21aad331-ebca-4e21-8271-76e396279053",
   "metadata": {},
   "outputs": [
    {
     "name": "stdout",
     "output_type": "stream",
     "text": [
      "scores {0: 0.28039708734500773, 1: 0.20866250630758768, 2: 0.04761904761904763, 3: 0.463321358728357}\n"
     ]
    }
   ],
   "source": [
    "# Step 3 - Rank sentences in similarity martix\n",
    "\n",
    "sentence_similarity_graph = nx.from_numpy_array(similarity_matrix)\n",
    "\n",
    "scores = nx.pagerank(sentence_similarity_graph)\n",
    "\n",
    "print(\"scores\", scores)"
   ]
  },
  {
   "cell_type": "markdown",
   "id": "328f47d3-fccc-432d-9e1c-f2609810c522",
   "metadata": {},
   "source": [
    "## Sort sentences by pagerank"
   ]
  },
  {
   "cell_type": "code",
   "execution_count": 176,
   "id": "b4feab09-0aef-4227-abd2-bbbcde2b0ac5",
   "metadata": {},
   "outputs": [
    {
     "name": "stdout",
     "output_type": "stream",
     "text": [
      "Indexes of top ranked_sentence order are \n",
      "\n",
      " [(0.463321358728357, ['మరియు', 'ఈ', 'సాంకేతిక', 'ప్రవృత్తి', 'అంతా', 'ఎందుకంటి', 'సమాచారం', 'నిలుస్తోంది.']), (0.28039708734500773, ['ఈ', 'హొందికలు', 'తెలిపిన', 'ఈ', 'కొత్త', 'సాంకేతిక', 'సాధనం', 'సంచార', 'విధానాలులో', 'ఒక', 'మార్పును', 'సంజీవిస్తుంది']), (0.20866250630758768, ['అతని', 'అభిమానాన్ని', 'అనుసరించి,', 'వ్యక్తులు', 'త్వరిత', 'మరియు', 'కనిష్ఠ', 'సమయంలో', 'సమాచారం', 'వ్యవస్థలను', 'చేంజ్', 'చేయగలిగేలా', 'అనుభవిస్తుండారు']), (0.04761904761904763, ['ఇది', 'మాత్రమే', 'కాక,', 'అందుబాటులో', 'ఉత్పత్తి', 'మీరు', 'కొన్ని', 'లోపాలను', 'అనుభవించాలి'])]\n"
     ]
    }
   ],
   "source": [
    "# Step 4 - Sort the rank and pick top sentences\n",
    "\n",
    "ranked_sentence = sorted(((scores[i],s) for i,s in enumerate(sentences)), reverse=True)\n",
    "\n",
    "print(\"Indexes of top ranked_sentence order are \\n\\n\",\n",
    "\n",
    "ranked_sentence)"
   ]
  },
  {
   "cell_type": "markdown",
   "id": "3bea1977-26e9-4ea0-8fa0-a909dab19302",
   "metadata": {},
   "source": [
    "## Pick the top “n” sentences"
   ]
  },
  {
   "cell_type": "code",
   "execution_count": 177,
   "id": "b219f650-3816-4bb4-a63c-8b04ba46eac7",
   "metadata": {},
   "outputs": [
    {
     "name": "stdin",
     "output_type": "stream",
     "text": [
      "How many sentences do you want in the summary?  4\n"
     ]
    }
   ],
   "source": [
    "\n",
    "#Step 5 - How many sentences to pick\n",
    "\n",
    "n = int(input(\"How many sentences do you want in the summary? \"))\n",
    "\n",
    "#n=2\n",
    "\n",
    "summarize_text = []\n",
    "\n",
    "for i in range(n):\n",
    "\n",
    "      summarize_text.append(\" \".join(ranked_sentence[i][1]))"
   ]
  },
  {
   "cell_type": "markdown",
   "id": "98bedad5-c641-47c7-8dae-ca8ad2045564",
   "metadata": {},
   "source": [
    "## printing summary"
   ]
  },
  {
   "cell_type": "code",
   "execution_count": 178,
   "id": "8e89cfbf-c7cc-407a-87ef-a85ccd84bab2",
   "metadata": {},
   "outputs": [
    {
     "name": "stdout",
     "output_type": "stream",
     "text": [
      "Summarize Text: \n",
      " మరియు ఈ సాంకేతిక ప్రవృత్తి అంతా ఎందుకంటి సమాచారం నిలుస్తోంది.. ఈ హొందికలు తెలిపిన ఈ కొత్త సాంకేతిక సాధనం సంచార విధానాలులో ఒక మార్పును సంజీవిస్తుంది. అతని అభిమానాన్ని అనుసరించి, వ్యక్తులు త్వరిత మరియు కనిష్ఠ సమయంలో సమాచారం వ్యవస్థలను చేంజ్ చేయగలిగేలా అనుభవిస్తుండారు. ఇది మాత్రమే కాక, అందుబాటులో ఉత్పత్తి మీరు కొన్ని లోపాలను అనుభవించాలి\n"
     ]
    }
   ],
   "source": [
    "# Step 6 - Offcourse, output the summarize text\n",
    "print(\"Summarize Text: \\n\", \". \".join(summarize_text))"
   ]
  },
  {
   "cell_type": "markdown",
   "id": "2b0c0947-73c8-48be-b3e5-5c37d9afdb28",
   "metadata": {},
   "source": [
    "## Language: Hindi"
   ]
  },
  {
   "cell_type": "code",
   "execution_count": 179,
   "id": "ed432007-7a97-4049-b4e3-d3d5ae409e56",
   "metadata": {},
   "outputs": [],
   "source": [
    "from nltk.corpus import stopwords\n",
    " \n",
    "#you can remove stop words for speed\n",
    "\n",
    "from nltk.cluster.util import cosine_distance\n",
    "\n",
    "import numpy as np\n",
    "\n",
    "import networkx as nx"
   ]
  },
  {
   "cell_type": "markdown",
   "id": "e9fced8c-d006-4968-afee-80fda81ff4a1",
   "metadata": {},
   "source": [
    "## Open file and split into sentences"
   ]
  },
  {
   "cell_type": "code",
   "execution_count": 180,
   "id": "ee936839-51de-44ab-9f46-6485fece6222",
   "metadata": {},
   "outputs": [
    {
     "name": "stdout",
     "output_type": "stream",
     "text": [
      "डेटा साइंस आजकल एक महत्वपूर्ण क्षेत्र बन चुका है जो तकनीकी विज्ञान, सांख्यिकी, और गहरी विवेचना का संगम है। यह विज्ञान डेटा के संग्रहण, विश्लेषण, और उससे संबंधित निर्णय लेने की क्षमता को संवर्धित करता है। डेटा साइंस का महत्व आजकल विभिन्न क्षेत्रों में बढ़ता जा रहा है, जैसे कि वित्त, स्वास्थ्य, विपणन, और सामाजिक विज्ञान। इसके साथ ही, डेटा साइंस भविष्य में और भी महत्वपूर्ण होने की संभावना है।भविष्य में, डेटा साइंस का उपयोग और विस्तार और भी बढ़ेगा। बड़ी और छोटी कंपनियों, सरकारी संस्थाएं, और अन्य संगठन डेटा साइंस का उपयोग करके अपने विभागीय और व्यावसायिक लक्ष्यों को प्राप्त करेंगे। डेटा साइंस विश्व की विकासशीलता में महत्वपूर्ण भूमिका निभाएगा, जो नए नए संभावनाओं को समय-समय पर खोलेगा। अतीत में डेटा साइंस ने कई क्षेत्रों में क्रांतिकारी परिवर्तन लाए हैं, और आने वाले समय में भी इसका महत्व और विस्तार और भी बढ़ेगा। यह उद्योग, विज्ञान, स्वास्थ्य देखभाल, सामाजिक विज्ञान, और अन्य क्षेत्रों में नए और उपयोगी निर्णय लेने में सहायक होगा। इस तरह, डेटा साइंस न केवल वर्तमान में बल्कि भविष्य में भी हमारे जीवन को सुधारने और विकसित करने में महत्वपूर्ण भूमिका निभाएगा।डेटा साइंस आजकल एक अत्यधिक महत्वपूर्ण क्षेत्र बन चुका है, जो विज्ञान, गणित और तकनीक के माध्यम से डेटा का विश्लेषण और समझने का काम करता है। यह क्षेत्र विभिन्न उद्योगों में अप्रत्यक्षता का दौर ला रहा है, जैसे वित्त, स्वास्थ्य देखभाल, विपणन, और बाजार विश्लेषण। डेटा साइंस के उपयोग से, विभिन्न क्षेत्रों में सुधार के लिए नए और प्रभावी तरीके खोजे जा रहे हैं। भविष्य में, इसका महत्व और बढ़ने की संभावना है, क्योंकि डेटा साइंस विभिन्न क्षेत्रों में सुधार और नवाचार की संभावनाओं को बढ़ावा देगा।\n"
     ]
    }
   ],
   "source": [
    "file = open(\"Text9.txt\", \"r\")\n",
    "\n",
    "#This file contains one paragraph of multiple sentences\n",
    "\n",
    "filedata = file.readlines()\n",
    "\n",
    "article = filedata[0].split(\". \") #Just do the first paragraph\n",
    "\n",
    "sentences = []\n",
    "\n",
    "for sentence in article:\n",
    "\n",
    "         print(sentence)\n",
    "\n",
    "         sentences.append(sentence.replace(\"[^a-zA-Z]\", \" \").split(\" \"))"
   ]
  },
  {
   "cell_type": "markdown",
   "id": "f2fe4beb-63f6-4c5c-9410-9c310b5a63c4",
   "metadata": {},
   "source": [
    "## Our data: a list of sentences"
   ]
  },
  {
   "cell_type": "code",
   "execution_count": 181,
   "id": "e672f932-d3c5-477c-9a17-f4aca775d534",
   "metadata": {},
   "outputs": [
    {
     "name": "stdout",
     "output_type": "stream",
     "text": [
      "Sentences are  [['डेटा', 'साइंस', 'आजकल', 'एक', 'महत्वपूर्ण', 'क्षेत्र', 'बन', 'चुका', 'है', 'जो', 'तकनीकी', 'विज्ञान,', 'सांख्यिकी,', 'और', 'गहरी', 'विवेचना', 'का', 'संगम', 'है।', 'यह', 'विज्ञान', 'डेटा', 'के', 'संग्रहण,', 'विश्लेषण,', 'और', 'उससे', 'संबंधित', 'निर्णय', 'लेने', 'की', 'क्षमता', 'को', 'संवर्धित', 'करता', 'है।', 'डेटा', 'साइंस', 'का', 'महत्व', 'आजकल', 'विभिन्न', 'क्षेत्रों', 'में', 'बढ़ता', 'जा', 'रहा', 'है,', 'जैसे', 'कि', 'वित्त,', 'स्वास्थ्य,', 'विपणन,', 'और', 'सामाजिक', 'विज्ञान।', 'इसके', 'साथ', 'ही,', 'डेटा', 'साइंस', 'भविष्य', 'में', 'और', 'भी', 'महत्वपूर्ण', 'होने', 'की', 'संभावना', 'है।भविष्य', 'में,', 'डेटा', 'साइंस', 'का', 'उपयोग', 'और', 'विस्तार', 'और', 'भी', 'बढ़ेगा।', 'बड़ी', 'और', 'छोटी', 'कंपनियों,', 'सरकारी', 'संस्थाएं,', 'और', 'अन्य', 'संगठन', 'डेटा', 'साइंस', 'का', 'उपयोग', 'करके', 'अपने', 'विभागीय', 'और', 'व्यावसायिक', 'लक्ष्यों', 'को', 'प्राप्त', 'करेंगे।', 'डेटा', 'साइंस', 'विश्व', 'की', 'विकासशीलता', 'में', 'महत्वपूर्ण', 'भूमिका', 'निभाएगा,', 'जो', 'नए', 'नए', 'संभावनाओं', 'को', 'समय-समय', 'पर', 'खोलेगा।', 'अतीत', 'में', 'डेटा', 'साइंस', 'ने', 'कई', 'क्षेत्रों', 'में', 'क्रांतिकारी', 'परिवर्तन', 'लाए', 'हैं,', 'और', 'आने', 'वाले', 'समय', 'में', 'भी', 'इसका', 'महत्व', 'और', 'विस्तार', 'और', 'भी', 'बढ़ेगा।', 'यह', 'उद्योग,', 'विज्ञान,', 'स्वास्थ्य', 'देखभाल,', 'सामाजिक', 'विज्ञान,', 'और', 'अन्य', 'क्षेत्रों', 'में', 'नए', 'और', 'उपयोगी', 'निर्णय', 'लेने', 'में', 'सहायक', 'होगा।', 'इस', 'तरह,', 'डेटा', 'साइंस', 'न', 'केवल', 'वर्तमान', 'में', 'बल्कि', 'भविष्य', 'में', 'भी', 'हमारे', 'जीवन', 'को', 'सुधारने', 'और', 'विकसित', 'करने', 'में', 'महत्वपूर्ण', 'भूमिका', 'निभाएगा।डेटा', 'साइंस', 'आजकल', 'एक', 'अत्यधिक', 'महत्वपूर्ण', 'क्षेत्र', 'बन', 'चुका', 'है,', 'जो', 'विज्ञान,', 'गणित', 'और', 'तकनीक', 'के', 'माध्यम', 'से', 'डेटा', 'का', 'विश्लेषण', 'और', 'समझने', 'का', 'काम', 'करता', 'है।', 'यह', 'क्षेत्र', 'विभिन्न', 'उद्योगों', 'में', 'अप्रत्यक्षता', 'का', 'दौर', 'ला', 'रहा', 'है,', 'जैसे', 'वित्त,', 'स्वास्थ्य', 'देखभाल,', 'विपणन,', 'और', 'बाजार', 'विश्लेषण।', 'डेटा', 'साइंस', 'के', 'उपयोग', 'से,', 'विभिन्न', 'क्षेत्रों', 'में', 'सुधार', 'के', 'लिए', 'नए', 'और', 'प्रभावी', 'तरीके', 'खोजे', 'जा', 'रहे', 'हैं।', 'भविष्य', 'में,', 'इसका', 'महत्व', 'और', 'बढ़ने', 'की', 'संभावना', 'है,', 'क्योंकि', 'डेटा', 'साइंस', 'विभिन्न', 'क्षेत्रों', 'में', 'सुधार', 'और', 'नवाचार', 'की', 'संभावनाओं', 'को', 'बढ़ावा', 'देगा।']]\n"
     ]
    }
   ],
   "source": [
    "print(\"Sentences are \", sentences)"
   ]
  },
  {
   "cell_type": "markdown",
   "id": "9cc83789-fada-40bf-a0c1-634ba3ec4aac",
   "metadata": {},
   "source": [
    "## Function to calculate similarity\n",
    "## (count the number of common words)"
   ]
  },
  {
   "cell_type": "code",
   "execution_count": 182,
   "id": "a8fbe56a-68e8-479e-a018-962022c8ed6c",
   "metadata": {},
   "outputs": [],
   "source": [
    "def sentence_similarity(sent1, sent2 ):\n",
    "\n",
    "    sent1 = [w.lower() for w in sent1]\n",
    "\n",
    "    sent2 = [w.lower() for w in sent2]\n",
    "\n",
    "    all_words = list(set(sent1 + sent2))\n",
    "\n",
    "    vector1 = [0] * len(all_words)\n",
    "\n",
    "    vector2 = [0] * len(all_words)\n",
    "\n",
    "        # build the vector for the first sentence\n",
    "\n",
    "    for w in sent1:\n",
    "\n",
    "         vector1[all_words.index(w)] += 1\n",
    "\n",
    "       # build the vector for the second sentence\n",
    "\n",
    "    for w in sent2:\n",
    "\n",
    "         vector2[all_words.index(w)] += 1\n",
    "\n",
    "    return 1 - cosine_distance(vector1, vector2)"
   ]
  },
  {
   "cell_type": "markdown",
   "id": "ebcba45f-5423-423c-ab72-1ae195fea675",
   "metadata": {},
   "source": [
    "## Create the similarity matrix"
   ]
  },
  {
   "cell_type": "code",
   "execution_count": 183,
   "id": "875ab7eb-206c-4ef1-96b2-00220382e51e",
   "metadata": {},
   "outputs": [
    {
     "name": "stdout",
     "output_type": "stream",
     "text": [
      "Similarity matrix:\n",
      " [[0.]]\n"
     ]
    }
   ],
   "source": [
    "similarity_matrix = np.zeros((len(sentences), len(sentences)))\n",
    "for idx1 in range(len(sentences)):\n",
    "    for idx2 in range(len(sentences)):\n",
    "        if idx1 == idx2:  # ignore if both are same sentences\n",
    "            continue\n",
    "        similarity_matrix[idx1][idx2] = sentence_similarity(sentences[idx1], sentences[idx2])\n",
    "\n",
    "print(\"Similarity matrix:\\n\", similarity_matrix)"
   ]
  },
  {
   "cell_type": "markdown",
   "id": "c4de5ffc-83f6-4b65-80e9-9ca824c13db2",
   "metadata": {},
   "source": [
    "## Get the pagerank scores"
   ]
  },
  {
   "cell_type": "code",
   "execution_count": 184,
   "id": "203fbe43-e0f8-4e0c-982d-e13e5bc01c05",
   "metadata": {},
   "outputs": [
    {
     "name": "stdout",
     "output_type": "stream",
     "text": [
      "scores {0: 1.0}\n"
     ]
    }
   ],
   "source": [
    "# Step 3 - Rank sentences in similarity martix\n",
    "\n",
    "sentence_similarity_graph = nx.from_numpy_array(similarity_matrix)\n",
    "\n",
    "scores = nx.pagerank(sentence_similarity_graph)\n",
    "\n",
    "print(\"scores\", scores)"
   ]
  },
  {
   "cell_type": "markdown",
   "id": "572d6440-ad3c-427e-bc9e-42503ee750e9",
   "metadata": {},
   "source": [
    "## Sort sentences by pagerank"
   ]
  },
  {
   "cell_type": "code",
   "execution_count": 185,
   "id": "c5f1cc45-a676-40e0-b738-31388749304b",
   "metadata": {},
   "outputs": [
    {
     "name": "stdout",
     "output_type": "stream",
     "text": [
      "Indexes of top ranked_sentence order are \n",
      "\n",
      " [(1.0, ['डेटा', 'साइंस', 'आजकल', 'एक', 'महत्वपूर्ण', 'क्षेत्र', 'बन', 'चुका', 'है', 'जो', 'तकनीकी', 'विज्ञान,', 'सांख्यिकी,', 'और', 'गहरी', 'विवेचना', 'का', 'संगम', 'है।', 'यह', 'विज्ञान', 'डेटा', 'के', 'संग्रहण,', 'विश्लेषण,', 'और', 'उससे', 'संबंधित', 'निर्णय', 'लेने', 'की', 'क्षमता', 'को', 'संवर्धित', 'करता', 'है।', 'डेटा', 'साइंस', 'का', 'महत्व', 'आजकल', 'विभिन्न', 'क्षेत्रों', 'में', 'बढ़ता', 'जा', 'रहा', 'है,', 'जैसे', 'कि', 'वित्त,', 'स्वास्थ्य,', 'विपणन,', 'और', 'सामाजिक', 'विज्ञान।', 'इसके', 'साथ', 'ही,', 'डेटा', 'साइंस', 'भविष्य', 'में', 'और', 'भी', 'महत्वपूर्ण', 'होने', 'की', 'संभावना', 'है।भविष्य', 'में,', 'डेटा', 'साइंस', 'का', 'उपयोग', 'और', 'विस्तार', 'और', 'भी', 'बढ़ेगा।', 'बड़ी', 'और', 'छोटी', 'कंपनियों,', 'सरकारी', 'संस्थाएं,', 'और', 'अन्य', 'संगठन', 'डेटा', 'साइंस', 'का', 'उपयोग', 'करके', 'अपने', 'विभागीय', 'और', 'व्यावसायिक', 'लक्ष्यों', 'को', 'प्राप्त', 'करेंगे।', 'डेटा', 'साइंस', 'विश्व', 'की', 'विकासशीलता', 'में', 'महत्वपूर्ण', 'भूमिका', 'निभाएगा,', 'जो', 'नए', 'नए', 'संभावनाओं', 'को', 'समय-समय', 'पर', 'खोलेगा।', 'अतीत', 'में', 'डेटा', 'साइंस', 'ने', 'कई', 'क्षेत्रों', 'में', 'क्रांतिकारी', 'परिवर्तन', 'लाए', 'हैं,', 'और', 'आने', 'वाले', 'समय', 'में', 'भी', 'इसका', 'महत्व', 'और', 'विस्तार', 'और', 'भी', 'बढ़ेगा।', 'यह', 'उद्योग,', 'विज्ञान,', 'स्वास्थ्य', 'देखभाल,', 'सामाजिक', 'विज्ञान,', 'और', 'अन्य', 'क्षेत्रों', 'में', 'नए', 'और', 'उपयोगी', 'निर्णय', 'लेने', 'में', 'सहायक', 'होगा।', 'इस', 'तरह,', 'डेटा', 'साइंस', 'न', 'केवल', 'वर्तमान', 'में', 'बल्कि', 'भविष्य', 'में', 'भी', 'हमारे', 'जीवन', 'को', 'सुधारने', 'और', 'विकसित', 'करने', 'में', 'महत्वपूर्ण', 'भूमिका', 'निभाएगा।डेटा', 'साइंस', 'आजकल', 'एक', 'अत्यधिक', 'महत्वपूर्ण', 'क्षेत्र', 'बन', 'चुका', 'है,', 'जो', 'विज्ञान,', 'गणित', 'और', 'तकनीक', 'के', 'माध्यम', 'से', 'डेटा', 'का', 'विश्लेषण', 'और', 'समझने', 'का', 'काम', 'करता', 'है।', 'यह', 'क्षेत्र', 'विभिन्न', 'उद्योगों', 'में', 'अप्रत्यक्षता', 'का', 'दौर', 'ला', 'रहा', 'है,', 'जैसे', 'वित्त,', 'स्वास्थ्य', 'देखभाल,', 'विपणन,', 'और', 'बाजार', 'विश्लेषण।', 'डेटा', 'साइंस', 'के', 'उपयोग', 'से,', 'विभिन्न', 'क्षेत्रों', 'में', 'सुधार', 'के', 'लिए', 'नए', 'और', 'प्रभावी', 'तरीके', 'खोजे', 'जा', 'रहे', 'हैं।', 'भविष्य', 'में,', 'इसका', 'महत्व', 'और', 'बढ़ने', 'की', 'संभावना', 'है,', 'क्योंकि', 'डेटा', 'साइंस', 'विभिन्न', 'क्षेत्रों', 'में', 'सुधार', 'और', 'नवाचार', 'की', 'संभावनाओं', 'को', 'बढ़ावा', 'देगा।'])]\n"
     ]
    }
   ],
   "source": [
    "# Step 4 - Sort the rank and pick top sentences\n",
    "\n",
    "ranked_sentence = sorted(((scores[i],s) for i,s in enumerate(sentences)), reverse=True)\n",
    "\n",
    "print(\"Indexes of top ranked_sentence order are \\n\\n\",\n",
    "\n",
    "ranked_sentence)"
   ]
  },
  {
   "cell_type": "markdown",
   "id": "ec119b4e-880a-4073-b661-4c810dde19f3",
   "metadata": {},
   "source": [
    "## Pick the top “n” sentences"
   ]
  },
  {
   "cell_type": "code",
   "execution_count": 186,
   "id": "bf7a1272-c5d8-43fe-9899-aa66b8f7a4a5",
   "metadata": {},
   "outputs": [
    {
     "name": "stdin",
     "output_type": "stream",
     "text": [
      "How many sentences do you want in the summary?  1\n"
     ]
    }
   ],
   "source": [
    "\n",
    "#Step 5 - How many sentences to pick\n",
    "\n",
    "n = int(input(\"How many sentences do you want in the summary? \"))\n",
    "\n",
    "#n=2\n",
    "\n",
    "summarize_text = []\n",
    "\n",
    "for i in range(n):\n",
    "\n",
    "      summarize_text.append(\" \".join(ranked_sentence[i][1]))"
   ]
  },
  {
   "cell_type": "markdown",
   "id": "b252151d-3302-45d9-af9a-b2ce8f7636ad",
   "metadata": {},
   "source": [
    "## printing summary"
   ]
  },
  {
   "cell_type": "code",
   "execution_count": 187,
   "id": "4b4e835e-51ce-4321-9a12-e8e67eaaaae6",
   "metadata": {},
   "outputs": [
    {
     "name": "stdout",
     "output_type": "stream",
     "text": [
      "Summarize Text: \n",
      " डेटा साइंस आजकल एक महत्वपूर्ण क्षेत्र बन चुका है जो तकनीकी विज्ञान, सांख्यिकी, और गहरी विवेचना का संगम है। यह विज्ञान डेटा के संग्रहण, विश्लेषण, और उससे संबंधित निर्णय लेने की क्षमता को संवर्धित करता है। डेटा साइंस का महत्व आजकल विभिन्न क्षेत्रों में बढ़ता जा रहा है, जैसे कि वित्त, स्वास्थ्य, विपणन, और सामाजिक विज्ञान। इसके साथ ही, डेटा साइंस भविष्य में और भी महत्वपूर्ण होने की संभावना है।भविष्य में, डेटा साइंस का उपयोग और विस्तार और भी बढ़ेगा। बड़ी और छोटी कंपनियों, सरकारी संस्थाएं, और अन्य संगठन डेटा साइंस का उपयोग करके अपने विभागीय और व्यावसायिक लक्ष्यों को प्राप्त करेंगे। डेटा साइंस विश्व की विकासशीलता में महत्वपूर्ण भूमिका निभाएगा, जो नए नए संभावनाओं को समय-समय पर खोलेगा। अतीत में डेटा साइंस ने कई क्षेत्रों में क्रांतिकारी परिवर्तन लाए हैं, और आने वाले समय में भी इसका महत्व और विस्तार और भी बढ़ेगा। यह उद्योग, विज्ञान, स्वास्थ्य देखभाल, सामाजिक विज्ञान, और अन्य क्षेत्रों में नए और उपयोगी निर्णय लेने में सहायक होगा। इस तरह, डेटा साइंस न केवल वर्तमान में बल्कि भविष्य में भी हमारे जीवन को सुधारने और विकसित करने में महत्वपूर्ण भूमिका निभाएगा।डेटा साइंस आजकल एक अत्यधिक महत्वपूर्ण क्षेत्र बन चुका है, जो विज्ञान, गणित और तकनीक के माध्यम से डेटा का विश्लेषण और समझने का काम करता है। यह क्षेत्र विभिन्न उद्योगों में अप्रत्यक्षता का दौर ला रहा है, जैसे वित्त, स्वास्थ्य देखभाल, विपणन, और बाजार विश्लेषण। डेटा साइंस के उपयोग से, विभिन्न क्षेत्रों में सुधार के लिए नए और प्रभावी तरीके खोजे जा रहे हैं। भविष्य में, इसका महत्व और बढ़ने की संभावना है, क्योंकि डेटा साइंस विभिन्न क्षेत्रों में सुधार और नवाचार की संभावनाओं को बढ़ावा देगा।\n"
     ]
    }
   ],
   "source": [
    "# Step 6 - Offcourse, output the summarize text\n",
    "print(\"Summarize Text: \\n\", \". \".join(summarize_text))"
   ]
  },
  {
   "cell_type": "code",
   "execution_count": null,
   "id": "3a03d1cf-4942-4803-b06d-dc9850d42d1f",
   "metadata": {},
   "outputs": [],
   "source": []
  }
 ],
 "metadata": {
  "kernelspec": {
   "display_name": "Python 3 (ipykernel)",
   "language": "python",
   "name": "python3"
  },
  "language_info": {
   "codemirror_mode": {
    "name": "ipython",
    "version": 3
   },
   "file_extension": ".py",
   "mimetype": "text/x-python",
   "name": "python",
   "nbconvert_exporter": "python",
   "pygments_lexer": "ipython3",
   "version": "3.11.7"
  }
 },
 "nbformat": 4,
 "nbformat_minor": 5
}
